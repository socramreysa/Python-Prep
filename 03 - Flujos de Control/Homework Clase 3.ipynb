{
 "cells": [
  {
   "cell_type": "markdown",
   "metadata": {},
   "source": [
    "1) Crear una variable que contenga un elemento del conjunto de números enteros y luego imprimir por pantalla si es mayor o menor a cero"
   ]
  },
  {
   "cell_type": "code",
   "execution_count": 4,
   "metadata": {},
   "outputs": [
    {
     "name": "stdout",
     "output_type": "stream",
     "text": [
      "Es mayor a 0\n"
     ]
    }
   ],
   "source": [
    "var1= 3\n",
    "if(var1==0):\n",
    "    print('Es igual a 0')\n",
    "elif(var1>0):\n",
    "    print('Es mayor a 0')\n",
    "else:\n",
    "    print('Es menor a 0')"
   ]
  },
  {
   "cell_type": "markdown",
   "metadata": {},
   "source": [
    "2) Crear dos variables y un condicional que informe si son del mismo tipo de dato"
   ]
  },
  {
   "cell_type": "code",
   "execution_count": 8,
   "metadata": {},
   "outputs": [
    {
     "name": "stdout",
     "output_type": "stream",
     "text": [
      "Son el mismo tipo de dato\n"
     ]
    }
   ],
   "source": [
    "var2 = True\n",
    "var3 = \"number\"\n",
    "\n",
    "if(type(var3)==type(var2)):\n",
    "    print('Son el mismo tipo de dato')\n",
    "else:\n",
    "    print('No son el mismo tipo de dato')"
   ]
  },
  {
   "cell_type": "markdown",
   "metadata": {},
   "source": [
    "3) Para los valores enteros del 1 al 20, imprimir por pantalla si es par o impar"
   ]
  },
  {
   "cell_type": "code",
   "execution_count": 16,
   "metadata": {},
   "outputs": [
    {
     "name": "stdout",
     "output_type": "stream",
     "text": [
      "El numero 1 es impar\n",
      "El numero 2 es par\n",
      "El numero 3 es impar\n",
      "El numero 4 es par\n",
      "El numero 5 es impar\n",
      "El numero 6 es par\n",
      "El numero 7 es impar\n",
      "El numero 8 es par\n",
      "El numero 9 es impar\n",
      "El numero 10 es par\n",
      "El numero 11 es impar\n",
      "El numero 12 es par\n",
      "El numero 13 es impar\n",
      "El numero 14 es par\n",
      "El numero 15 es impar\n",
      "El numero 16 es par\n",
      "El numero 17 es impar\n",
      "El numero 18 es par\n",
      "El numero 19 es impar\n",
      "El numero 20 es par\n"
     ]
    }
   ],
   "source": [
    "for i in range (1,21):\n",
    "    if (i%2 == 0):\n",
    "        print(f'El numero {i} es par')\n",
    "    else:\n",
    "        print(f'El numero {i} es impar')"
   ]
  },
  {
   "cell_type": "markdown",
   "metadata": {},
   "source": [
    "4) En un ciclo for mostrar para los valores entre 0 y 5 el resultado de elevarlo a la potencia igual a 3"
   ]
  },
  {
   "cell_type": "code",
   "execution_count": 19,
   "metadata": {},
   "outputs": [
    {
     "name": "stdout",
     "output_type": "stream",
     "text": [
      "El numero 0 elevado a la 3 es igual a: 0\n",
      "El numero 1 elevado a la 3 es igual a: 1\n",
      "El numero 2 elevado a la 3 es igual a: 8\n",
      "El numero 3 elevado a la 3 es igual a: 27\n",
      "El numero 4 elevado a la 3 es igual a: 64\n",
      "El numero 5 elevado a la 3 es igual a: 125\n"
     ]
    }
   ],
   "source": [
    "j=0\n",
    "while (j<=5):\n",
    "    print(f'El numero {j} elevado a la 3 es igual a: {j**3}')\n",
    "    j+=1"
   ]
  },
  {
   "cell_type": "markdown",
   "metadata": {},
   "source": [
    "5) Crear una variable que contenga un número entero y realizar un ciclo for la misma cantidad de ciclos"
   ]
  },
  {
   "cell_type": "code",
   "execution_count": 20,
   "metadata": {},
   "outputs": [
    {
     "name": "stdout",
     "output_type": "stream",
     "text": [
      "Ciclo numero 0\n",
      "Ciclo numero 1\n",
      "Ciclo numero 2\n",
      "Ciclo numero 3\n",
      "Ciclo numero 4\n",
      "Ciclo numero 5\n",
      "Ciclo numero 6\n",
      "Ciclo numero 7\n"
     ]
    }
   ],
   "source": [
    "var4 = 7\n",
    "for i in range(var4+1):\n",
    "    print(f'Ciclo numero {i}')"
   ]
  },
  {
   "cell_type": "markdown",
   "metadata": {},
   "source": [
    "6) Utilizar un ciclo while para realizar el factorial de un número guardado en una variable, sólo si la variable contiene un número entero mayor a 0"
   ]
  },
  {
   "cell_type": "code",
   "execution_count": 34,
   "metadata": {},
   "outputs": [
    {
     "name": "stdout",
     "output_type": "stream",
     "text": [
      "El factorial de 10 es 3628800\n"
     ]
    }
   ],
   "source": [
    "inputNum = 10\n",
    "if(inputNum!=0):\n",
    "   # i=1\n",
    "    factorial=1\n",
    "    for i in range(1,inputNum+1):\n",
    "  #  while i<=int(inputNum):\n",
    "        factorial= i*factorial\n",
    "    #    i+=1\n",
    "    print(f'El factorial de {inputNum} es {factorial}')\n",
    "else:    \n",
    "    print('El factorial de 0 es: 1')"
   ]
  },
  {
   "cell_type": "markdown",
   "metadata": {},
   "source": [
    "7) Crear un ciclo for dentro de un ciclo while"
   ]
  },
  {
   "cell_type": "code",
   "execution_count": 40,
   "metadata": {},
   "outputs": [
    {
     "name": "stdout",
     "output_type": "stream",
     "text": [
      "WHILE Nº 3\n",
      "FOR Nº 0\n",
      "FOR Nº 1\n",
      "FOR Nº 2\n",
      "WHILE Nº 2\n",
      "FOR Nº 0\n",
      "FOR Nº 1\n",
      "FOR Nº 2\n",
      "WHILE Nº 1\n",
      "FOR Nº 0\n",
      "FOR Nº 1\n",
      "FOR Nº 2\n"
     ]
    }
   ],
   "source": [
    "n = 3\n",
    "while(n > 0):\n",
    "    print(f'WHILE Nº {n}')\n",
    "    for i in range(0,stop):\n",
    "        print(f'FOR Nº {i}')\n",
    "    n-=1"
   ]
  },
  {
   "cell_type": "markdown",
   "metadata": {},
   "source": [
    "8) Crear un ciclo while dentro de un ciclo for"
   ]
  },
  {
   "cell_type": "code",
   "execution_count": 47,
   "metadata": {},
   "outputs": [
    {
     "name": "stdout",
     "output_type": "stream",
     "text": [
      "FOR Nº 1\n",
      "WHILE Nº 1\n",
      "FOR Nº 2\n",
      "WHILE Nº 2\n",
      "FOR Nº 3\n",
      "WHILE Nº 3\n",
      "FOR Nº 4\n",
      "WHILE Nº 4\n",
      "FOR Nº 5\n",
      "WHILE Nº 5\n",
      "FOR Nº 6\n",
      "WHILE Nº 6\n",
      "FOR Nº 7\n",
      "WHILE Nº 7\n"
     ]
    }
   ],
   "source": [
    "limit = 7\n",
    "for i in range(1,limit+1):\n",
    "    print(f'FOR Nº {i}')\n",
    "    while (i<=limit):\n",
    "        print(f'WHILE Nº {i}')\n",
    "        break"
   ]
  },
  {
   "cell_type": "markdown",
   "metadata": {},
   "source": [
    "9) Imprimir los números primos existentes entre 0 y 30"
   ]
  },
  {
   "cell_type": "code",
   "execution_count": 87,
   "metadata": {},
   "outputs": [
    {
     "name": "stdout",
     "output_type": "stream",
     "text": [
      "2 es un número primo\n",
      "3 es un número primo\n",
      "5 es un número primo\n",
      "7 es un número primo\n",
      "11 es un número primo\n",
      "13 es un número primo\n",
      "17 es un número primo\n",
      "19 es un número primo\n",
      "23 es un número primo\n",
      "29 es un número primo\n",
      "Cantidad de ciclos: 126\n"
     ]
    }
   ],
   "source": [
    "limit = 30\n",
    "for i in range(1,limit+1):\n",
    "    for j in range(2,i+1):\n",
    "        if(j==i):\n",
    "            print(f'{i} es un número Primo')\n",
    "            break\n",
    "        elif((i%j)!=0):\n",
    "            continue\n",
    "        elif((i%j)==0):\n",
    "            break\n",
    "        \n"
   ]
  },
  {
   "cell_type": "markdown",
   "metadata": {},
   "source": [
    "10) ¿Se puede mejorar el proceso del punto 9? Utilizar las sentencias break y/ó continue para tal fin"
   ]
  },
  {
   "cell_type": "code",
   "execution_count": null,
   "metadata": {},
   "outputs": [],
   "source": [
    "limit = 30\n",
    "for i in range(1,limit+1):\n",
    "    for j in range(2,i+1):\n",
    "        if(j==i):\n",
    "            print(f'{i} es un número primo')\n",
    "            break\n",
    "        elif((i%j)!=0):\n",
    "            continue\n",
    "        elif((i%j)==0):\n",
    "            break"
   ]
  },
  {
   "cell_type": "markdown",
   "metadata": {},
   "source": [
    "11) En los puntos 9 y 10, se diseño un código que encuentra números primos y además se lo optimizó. ¿Es posible saber en qué medida se optimizó?"
   ]
  },
  {
   "cell_type": "code",
   "execution_count": 90,
   "metadata": {},
   "outputs": [
    {
     "name": "stdout",
     "output_type": "stream",
     "text": [
      "2 es un número primo\n",
      "3 es un número primo\n",
      "5 es un número primo\n",
      "7 es un número primo\n",
      "11 es un número primo\n",
      "13 es un número primo\n",
      "17 es un número primo\n",
      "19 es un número primo\n",
      "23 es un número primo\n",
      "29 es un número primo\n",
      "31 es un número primo\n",
      "37 es un número primo\n",
      "41 es un número primo\n",
      "43 es un número primo\n",
      "47 es un número primo\n",
      "53 es un número primo\n",
      "59 es un número primo\n",
      "61 es un número primo\n",
      "67 es un número primo\n",
      "71 es un número primo\n",
      "73 es un número primo\n",
      "79 es un número primo\n",
      "83 es un número primo\n",
      "89 es un número primo\n",
      "97 es un número primo\n",
      "Cantidad de ciclos: 1084\n"
     ]
    }
   ],
   "source": [
    "ciclos_sin_break = 0\n",
    "limit = 100\n",
    "for i in range(1,limit+1):\n",
    "    for j in range(2,i+1):\n",
    "        if(j==i):\n",
    "            print(f'{i} es un número primo')\n",
    "            ciclos_sin_break+=1\n",
    "            break\n",
    "        elif((i%j)!=0):\n",
    "            ciclos_sin_break+=1\n",
    "            continue\n",
    "        elif((i%j)==0):\n",
    "            break\n",
    "print('Cantidad de ciclos: ' + str(ciclos_sin_break))"
   ]
  },
  {
   "cell_type": "markdown",
   "metadata": {},
   "source": [
    "12) Si la cantidad de números que se evalúa es mayor a treinta, esa optimización crece?\n"
   ]
  },
  {
   "cell_type": "code",
   "execution_count": 100,
   "metadata": {},
   "outputs": [
    {
     "name": "stdout",
     "output_type": "stream",
     "text": [
      "2 es un número primo\n",
      "3 es un número primo\n",
      "5 es un número primo\n",
      "7 es un número primo\n",
      "11 es un número primo\n",
      "13 es un número primo\n",
      "17 es un número primo\n",
      "19 es un número primo\n",
      "23 es un número primo\n",
      "29 es un número primo\n",
      "Cantidad de ciclos: 126\n",
      "Se optimizó a un 0.15% de ciclos aplicando break\n"
     ]
    }
   ],
   "source": [
    "ciclos_sin_break = 0\n",
    "ciclos_con_break = 0\n",
    "limit = 30\n",
    "for i in range(1,limit+1):\n",
    "    for j in range(2,i+1):\n",
    "        if(j==i):\n",
    "            print(f'{i} es un número primo')\n",
    "            ciclos_sin_break+=1\n",
    "            break\n",
    "        elif((i%j)!=0):\n",
    "            ciclos_sin_break+=1\n",
    "            continue\n",
    "        elif((i%j)==0):\n",
    "            ciclos_con_break+=1\n",
    "            break\n",
    "print(f'Cantidad de ciclos: {ciclos_sin_break}')\n",
    "print(f'Se optimizó a un {round(ciclos_con_break/ciclos_sin_break,2)}% de ciclos aplicando break')"
   ]
  },
  {
   "cell_type": "markdown",
   "metadata": {},
   "source": [
    "13) Aplicando continue, armar un ciclo while que solo imprima los valores divisibles por 12, dentro del rango de números de 100 a 300"
   ]
  },
  {
   "cell_type": "code",
   "execution_count": 103,
   "metadata": {},
   "outputs": [
    {
     "name": "stdout",
     "output_type": "stream",
     "text": [
      "108\n",
      "120\n",
      "132\n",
      "144\n",
      "156\n",
      "168\n",
      "180\n",
      "192\n",
      "204\n",
      "216\n",
      "228\n",
      "240\n",
      "252\n",
      "264\n",
      "276\n",
      "288\n",
      "300\n"
     ]
    }
   ],
   "source": [
    "inf_limit = 100\n",
    "sup_limit = 300\n",
    "while(inf_limit <= sup_limit):\n",
    "    inf_limit+=1\n",
    "    if((inf_limit%12)!=0):\n",
    "        continue\n",
    "    print(inf_limit)"
   ]
  },
  {
   "cell_type": "markdown",
   "metadata": {},
   "source": [
    "14) Utilizar la función **input()** que permite hacer ingresos por teclado, para encontrar números primos y dar la opción al usario de buscar el siguiente"
   ]
  },
  {
   "cell_type": "code",
   "execution_count": 109,
   "metadata": {},
   "outputs": [
    {
     "name": "stdout",
     "output_type": "stream",
     "text": [
      "Ingresa un número para limitar la búsqueda de numeros primos\n",
      "Haz ingresado 100, la busqueda iniciará en 3.. 2.. 2..\n",
      "2 es un número primo\n",
      "3 es un número primo\n",
      "5 es un número primo\n",
      "7 es un número primo\n",
      "11 es un número primo\n",
      "13 es un número primo\n",
      "17 es un número primo\n",
      "19 es un número primo\n",
      "23 es un número primo\n",
      "29 es un número primo\n",
      "31 es un número primo\n",
      "37 es un número primo\n",
      "41 es un número primo\n",
      "43 es un número primo\n",
      "47 es un número primo\n",
      "53 es un número primo\n",
      "59 es un número primo\n",
      "61 es un número primo\n",
      "67 es un número primo\n",
      "71 es un número primo\n",
      "73 es un número primo\n",
      "79 es un número primo\n",
      "83 es un número primo\n",
      "89 es un número primo\n",
      "97 es un número primo\n"
     ]
    }
   ],
   "source": [
    "print('Ingresa un número para limitar la búsqueda de numeros primos')\n",
    "limit = int(input())\n",
    "print(f'Haz ingresado {limit}, la busqueda iniciará en 3.. 2.. 1..')\n",
    "for i in range(1,limit+1):\n",
    "    for j in range(2,i+1):\n",
    "        if(j==i):\n",
    "            print(f'{i} es un número primo')\n",
    "            break\n",
    "        elif((i%j)!=0):\n",
    "            continue\n",
    "        elif((i%j)==0):\n",
    "            break\n"
   ]
  },
  {
   "cell_type": "markdown",
   "metadata": {},
   "source": [
    "15) Crear un ciclo while que encuentre dentro del rango de 100 a 300 el primer número divisible por 3 y además múltiplo de 6"
   ]
  },
  {
   "cell_type": "code",
   "execution_count": 113,
   "metadata": {},
   "outputs": [
    {
     "name": "stdout",
     "output_type": "stream",
     "text": [
      "102 es divisible por 3 y multiplo de 6\n"
     ]
    }
   ],
   "source": [
    "inf_limit = 100\n",
    "sup_limit = 300\n",
    "while(inf_limit <= sup_limit):\n",
    "    inf_limit+=1\n",
    "    if((inf_limit%6)==0):\n",
    "        print(f'{inf_limit} es divisible por 3 y multiplo de 6')\n",
    "        break"
   ]
  }
 ],
 "metadata": {
  "interpreter": {
   "hash": "aee8b7b246df8f9039afb4144a1f6fd8d2ca17a180786b69acc140d282b71a49"
  },
  "kernelspec": {
   "display_name": "Python 3.9.10 64-bit",
   "language": "python",
   "name": "python3"
  },
  "language_info": {
   "codemirror_mode": {
    "name": "ipython",
    "version": 3
   },
   "file_extension": ".py",
   "mimetype": "text/x-python",
   "name": "python",
   "nbconvert_exporter": "python",
   "pygments_lexer": "ipython3",
   "version": "3.9.10"
  },
  "orig_nbformat": 4
 },
 "nbformat": 4,
 "nbformat_minor": 2
}
